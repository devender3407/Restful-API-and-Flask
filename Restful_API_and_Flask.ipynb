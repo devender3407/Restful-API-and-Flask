{
  "nbformat": 4,
  "nbformat_minor": 0,
  "metadata": {
    "colab": {
      "provenance": []
    },
    "kernelspec": {
      "name": "python3",
      "display_name": "Python 3"
    },
    "language_info": {
      "name": "python"
    }
  },
  "cells": [
    {
      "cell_type": "markdown",
      "source": [
        "^RESTFUL API AND FLASK"
      ],
      "metadata": {
        "id": "XVHba4KuKHam"
      }
    },
    {
      "cell_type": "markdown",
      "source": [
        "Question 1:- What is a restful API?\n",
        "\n",
        "Answer:- A RESTFUL API (REPRESENTATIONAL STATE TRANSFER APPLICATION PROGRAMMING INTERFACE) IS A WAY FOR TWO SYSTEMS (LIKE WEB APPS, MOBILE APPS, OR SERVERS) TO COMMUNICATE WITH EACH OTHER OVER THE INTERNET USING HTTP PROTOCOL."
      ],
      "metadata": {
        "id": "UkUzyVceKOfj"
      }
    },
    {
      "cell_type": "markdown",
      "source": [
        "Question 2:- Explain the concept of API specifications.\n",
        "\n",
        "Answer:- API specifications describe how an API works — basically, they are like a contract between the API provider and the API consumer.\n",
        "Think of it like this: if an API is a service (like a restaurant), then the API specification is the menu that tells you what dishes are available, what ingredients they need, and what you will get in return."
      ],
      "metadata": {
        "id": "Z5dBaVldLaEy"
      }
    },
    {
      "cell_type": "markdown",
      "source": [
        "Question 3:- What is flask and why is it popular for building APIs?\n",
        "\n",
        "Answer:- Flask is a micro-framework → meaning it gives you the basics (routing, request/response handling, templates) but doesn't force a lot of extra features. It allows developers to create both web apps and REST APIs easily with Python.\n",
        "It is popular because of its simplicity and minimalism, flexibility, lightweight, large ecosystem, easy learning curve and integration."
      ],
      "metadata": {
        "id": "K2w9jURqMZdb"
      }
    },
    {
      "cell_type": "markdown",
      "source": [
        "Question 4:- What is routing in flask?\n",
        "\n",
        "Answer:- In Flask, routing is the way you connect a URL (path) to a specific function in your Python code.\n",
        "When a user visits a certain URL (like /home or /users/5), Flask uses the routing system to decide which function should handle that request and what response to send back."
      ],
      "metadata": {
        "id": "ACxZc2J_OzmL"
      }
    },
    {
      "cell_type": "markdown",
      "source": [
        "Question 5:- How do you create a simple flask aplication?\n",
        "\n",
        "Answer:- Step 1: Install Flask\n",
        "pip install flask\n",
        "Step 2: Create a Python file (say, app.py)\n",
        "from flask import Flask\n",
        "# Create a Flask app instance\n",
        "app = Flask(_name_)\n",
        "# Define a route (URL) and its handling function\n",
        "@app.route('/')\n",
        "def home():\n",
        "    return \"Hello, Flask! This is my first app.\"\n",
        "# Run the app"
      ],
      "metadata": {
        "id": "uNytZt5zPnXi"
      }
    },
    {
      "cell_type": "markdown",
      "source": [
        "Question 6:- What are HTTP methods used in restful APIs?\n",
        "\n",
        "Answer:- In RESTful APIs, HTTP methods define the type of action you want to perform on a resource (like users, products, orders, etc.). They follow the CRUD principle (Create, Read, Update, Delete).\n",
        "Main HTTP methods in REST APIs:\n",
        "get, post, put, patch, delete."
      ],
      "metadata": {
        "id": "NbMR1BgPQmFN"
      }
    },
    {
      "cell_type": "markdown",
      "source": [
        "Question 7:- What is the purpose of the @app.route() decorator in flask?\n",
        "\n",
        "Answer:- The @app.route() decorator in Flask is used to bind a URL path to a specific function, which is called a view function. This is how you define the routes (URLs) that your web application will respond to.\n",
        "Purpose: It tells Flask: Which URL should trigger a certain function.\n",
        "What HTTP methods (GET, POST, etc.) the function should respond to (optional)."
      ],
      "metadata": {
        "id": "aYE7OFkL8_gC"
      }
    },
    {
      "cell_type": "markdown",
      "source": [
        "Question 8:- What is the difference between GET and POST HTTP methods?\n",
        "\n",
        "Answer:- GET is used to get data from the server. For example, when you visit a webpage or search for something, it usually uses GET. The data you send (like search terms) appears in the URL. It's mostly used to view things, not change anything.\n",
        "POST is used to send data to the server. For example, when you fill out a form and click \"submit,\" it usually uses POST. The data you send does not appear in the URL. It's used to create or update something, like adding a comment or signing up for a website."
      ],
      "metadata": {
        "id": "lCCu0WYB996F"
      }
    },
    {
      "cell_type": "markdown",
      "source": [
        "Question 9: How do you handle errors in flask API's?\n",
        "\n",
        "Answer:- In Flask, you can handle errors in your API using error handlers. These allow you to return custom responses when something goes wrong (like a 404 or 500 error), instead of Flask's default HTML error pages.\n"
      ],
      "metadata": {
        "id": "n1mgJ5MQ-nqJ"
      }
    },
    {
      "cell_type": "markdown",
      "source": [
        "Question 10:- How do you connect flask to a SQL database?\n",
        "\n",
        "Answer:- TO CONNECT FLASK TO A SQL DATABASE, YOU USUALLY USE AN ORM (OBJECT RELATIONAL MAPPER) LIKE SQLALCHEMY OR DIRECTLY USE A DATABASE DRIVER (LIKE sqlite3, mysql-connector, OR psycopg2)."
      ],
      "metadata": {
        "id": "HU4viC1n_BSm"
      }
    },
    {
      "cell_type": "markdown",
      "source": [
        "Question 11:- what is the role of Flask-SQLAlchemy?\n",
        "\n",
        "Answer:- Flask-SQLAlchemy is an extension for Flask that integrates the SQLAlchemy library with Flask. Its role is to make it easier to work with databases inside a Flask application."
      ],
      "metadata": {
        "id": "pPxR9gJ6_yGO"
      }
    },
    {
      "cell_type": "markdown",
      "source": [
        "Question 12:- What are the flask blueprints, and how are they useful?\n",
        "\n",
        "Answer:- Think of a Blueprint as a mini-application inside your main Flask app: it can contain routes, views, templates, static files, and even error handlers. Instead of writing all your routes in one big app.py, you split them into separate, logical files using Blueprints.\n",
        "\n",
        "Why Blueprints are useful-\n",
        "Modularity - You can separate different parts of your app (e.g., authentication, admin, API) into independent files.\n",
        "Reusability - A Blueprint can be reused across multiple projects.\n",
        "Team Collaboration- Different developers can work on different modules without touching the same file.\n",
        "Cleaner Codebase - Prevents your app.py from becoming huge and unmanageable.\n",
        "Easier Scaling - Large apps with many features are easier to maintain when broken into modules."
      ],
      "metadata": {
        "id": "X4Ha-NqSAQOt"
      }
    },
    {
      "cell_type": "markdown",
      "source": [
        "Question 13:- What is the purpose of flask's request object?\n",
        "\n",
        "Answer:- The request object in Flask represents the HTTP request that a client (like a browser or API client) sends to your Flask application.\n",
        "It gives you access to all the data that comes with the request, so you can handle user input and interact with it inside your routes."
      ],
      "metadata": {
        "id": "gSQCrw1uA3WY"
      }
    },
    {
      "cell_type": "markdown",
      "source": [
        "Question 14:- How do you create a restful API endpoint using flask?\n",
        "\n",
        "Answer:- To create a RESTful API endpoint in Flask, you need to define routes that respond to HTTP methods (GET, POST, PUT, DELETE, etc.) and return responses in formats like JSON.\n",
        "1. from flask import Flask, request, jsonify\n",
        "  app = Flask(__name__)\n",
        "2. In-Memory Data (for demo)\n",
        "users = [{\"id\": 1, \"name\": \"Alice\"},{\"id\": 2, \"name\": \"Bob\"}]\n"
      ],
      "metadata": {
        "id": "ccxKaP-HBQXe"
      }
    },
    {
      "cell_type": "markdown",
      "source": [
        "Question 15:- What is the purpose of Flask jsonify() function?\n",
        "\n",
        "Answer:- The jsonify() function in Flask is used to create a proper JSON response from your Python data structures (like dicts or lists).\n",
        "Instead of manually converting Python objects to JSON strings and setting headers, jsonify() does it for you.\n",
        "purpose:- Converts Python data → JSON automatically, Sets the correct Content-Type header, Handles UTF-8 encoding safely, Supports multiple arguments etc."
      ],
      "metadata": {
        "id": "Pr1-dwBiCQ7n"
      }
    },
    {
      "cell_type": "markdown",
      "source": [
        "Question 16:- Explain Flask's url_for() function.\n",
        "\n",
        "Answer:- The url_for() function in Flask is used to build URLs dynamically for routes in your application.\n",
        "Instead of hardcoding URLs (like \"/login\" or \"/profile/1\"), you use url_for() with the name of the view function, and Flask generates the correct URL for you."
      ],
      "metadata": {
        "id": "6-e803vZDSOi"
      }
    },
    {
      "cell_type": "markdown",
      "source": [
        "Question 17:- How does flask handle static files(CSS, javascript, etc?\n",
        "\n",
        "Answer:- Flask has built-in support for serving static files like CSS, JavaScript, and images.\n",
        "By default, Flask looks for a folder named static/ in your project directory and serves its contents automatically at the URL path /static/.\n",
        "How Flask Handles Static Files:- Default static folder, Automatic serving, Using url_for() in templates, Custom static folder (optional),\n",
        "Behind the scenes etc."
      ],
      "metadata": {
        "id": "lAnF3zW3DtvB"
      }
    },
    {
      "cell_type": "markdown",
      "source": [
        "Question 18:- what is an Api specification, and how does it help in building a flask api?\n",
        "\n",
        "Answer:- An API specification is a formal description of how an API works — it defines the available endpoints, request formats, response formats, authentication methods, error handling, and other details that clients (like frontend apps or third-party developers) need to use the API correctly.\n",
        "Think of it as a contract between the API provider (your Flask app) and the API consumer (clients).\n",
        "How API Specification Helps in Building a Flask API:- Clarity Planning,\n",
        "Consistency, Collaboration, Documentation, Automation etc."
      ],
      "metadata": {
        "id": "r0Vgsd9pE6Et"
      }
    },
    {
      "cell_type": "markdown",
      "source": [
        "Question 19:- What are HTTP status codes, and why are they important in flask API?\n",
        "\n",
        "Answer:- HTTP status codes are three-digit numbers that a server (like your Flask API) sends back in response to a client’s request.\n",
        "They tell the client whether the request was successful, failed, or needs some further action.\n",
        "Why Status Codes Are Important in a Flask API:-Communication with Clients, Error Handling, RESTful Best Practices, Automation & Debugging.\n",
        "\n"
      ],
      "metadata": {
        "id": "hT9ku-L6Fv4n"
      }
    },
    {
      "cell_type": "markdown",
      "source": [
        "Question 20:- How do you handle POST requests in Flask?\n",
        "\n",
        "Answer:- In Flask, you handle POST requests by creating a route that allows the POST method and then accessing the request data (form data, JSON, or files) using Flask's request object.\n",
        " Basic Example (Handling POST Form Data)\n",
        "from flask import Flask, request\n",
        "app = Flask(__name__)\n",
        "@app.route('/submit', methods=['POST'])\n",
        "def submit():\n",
        "name = request.form['name']   # from HTML form input\n",
        "email = request.form['email']\n",
        "  return f\"Received: {name}, {email}\"\n",
        "if __name__ == '__main__':\n",
        "  app.run(debug=True)"
      ],
      "metadata": {
        "id": "sxFsPqyOGvSh"
      }
    },
    {
      "cell_type": "markdown",
      "source": [
        "Question 21:- How would you secure a flask API?\n",
        "\n",
        "Answer:- Securing a Flask API is critical because APIs are often exposed to the internet and can be targets for attacks. Flask itself is lightweight, so you add layers of security through configuration, code practices, and external libraries.\n",
        "Here's how you can secure a Flask API: Use HTTPS (TLS/SSL), Authentication & Authorization."
      ],
      "metadata": {
        "id": "Ch4Gj7qPIXjN"
      }
    },
    {
      "cell_type": "markdown",
      "source": [
        "Question 22:- What is the significance of the Flask-restful extension?\n",
        "\n",
        "Answer:- The Flask-RESTful extension is designed to make building REST APIs with Flask easier, cleaner, and more structured.\n",
        "Instead of writing routes and request handling manually, Flask-RESTful gives you a framework to define resources (like users, products, etc.) and their behavior using Python classes.\n",
        "Significance of Flask-RESTful:-\n",
        "Resource-Oriented Design, Cleaner Code, Automatic Request Parsing,\n",
        "Better Error Handling, Integration with Flask etc."
      ],
      "metadata": {
        "id": "f0ZwBAsPIjiz"
      }
    },
    {
      "cell_type": "markdown",
      "source": [
        "Question 23:- What is the role of Flask;s session object?\n",
        "\n",
        "Answer:- The Flask session object is used to store information about a user across multiple requests in a web application.\n",
        "Since HTTP is stateless (it doesn't remember users between requests), Flask provides the session object to keep track of data (like login status, preferences, or shopping cart items) for each user while they interact with the app."
      ],
      "metadata": {
        "id": "I9TFeCfJIM3Q"
      }
    },
    {
      "cell_type": "markdown",
      "source": [
        "^PRACTICAL QUESTIONS"
      ],
      "metadata": {
        "id": "dzeUkDeZcwX1"
      }
    },
    {
      "cell_type": "markdown",
      "source": [
        "Question 1:- How do you create a basic flask application?\n"
      ],
      "metadata": {
        "id": "4VO2GxAbc7uJ"
      }
    },
    {
      "cell_type": "code",
      "source": [
        "#install flask\n",
        "pip install Flask\n",
        "#create a python file\n",
        "from flask import Flask\n",
        "\n",
        "# create the Flask application\n",
        "app = Flask(__name__)\n",
        "\n",
        "# define a route\n",
        "@app.route('/')\n",
        "def home():\n",
        "    return \"Hello, Flask!\"\n",
        "\n",
        "# run the application\n",
        "if __name__ == '__main__':\n",
        "    app.run(debug=True)\n"
      ],
      "metadata": {
        "id": "HZ2IykvmIDbV"
      },
      "execution_count": null,
      "outputs": []
    },
    {
      "cell_type": "markdown",
      "source": [
        "Question 2:- How do you serve static files like images or CSS in Flask?\n"
      ],
      "metadata": {
        "id": "iZL5A5iEIazL"
      }
    },
    {
      "cell_type": "code",
      "source": [
        "#create a static folder\n",
        "project/\n",
        "│── app.py\n",
        "│── static/\n",
        "│   ├── style.css\n",
        "│   ├── script.js\n",
        "│   └── image.png\n",
        "│── templates/\n",
        "│   └── index.html\n",
        "\n",
        "#access static files in HTML\n",
        "<!DOCTYPE html>\n",
        "<html>\n",
        "<head>\n",
        "    <title>Static Example</title>\n",
        "    <!-- Linking CSS -->\n",
        "    <link rel=\"stylesheet\" type=\"text/css\" href=\"{{ url_for('static', filename='style.css') }}\">\n",
        "</head>\n",
        "<body>\n",
        "    <h1>Hello Flask with CSS!</h1>\n",
        "\n",
        "    <!-- Adding an image -->\n",
        "    <img src=\"{{ url_for('static', filename='image.png') }}\" alt=\"My Image\">\n",
        "\n",
        "    <!-- Linking JavaScript -->\n",
        "    <script src=\"{{ url_for('static', filename='script.js') }}\"></script>\n",
        "</body>\n",
        "</html>\n",
        "#flask app(app.py)\n",
        "from flask import Flask, render_template\n",
        "\n",
        "app = Flask(__name__)\n",
        "\n",
        "@app.route('/')\n",
        "def home():\n",
        "    return render_template('index.html')\n",
        "\n",
        "if __name__ == '__main__':\n",
        "    app.run(debug=True)\n",
        "#run the app\n",
        "python app.py\n"
      ],
      "metadata": {
        "id": "g9f_E2bVJDP1"
      },
      "execution_count": null,
      "outputs": []
    },
    {
      "cell_type": "markdown",
      "source": [
        "Question 3:- How do you define different routes with different HTTP methods in flask?"
      ],
      "metadata": {
        "id": "BEIBXTNzKA5q"
      }
    },
    {
      "cell_type": "code",
      "source": [
        "from flask import Flask, request\n",
        "\n",
        "app = Flask(__name__)\n",
        "\n",
        "# Route that accepts only GET\n",
        "@app.route('/hello', methods=['GET'])\n",
        "def hello():\n",
        "    return \"Hello! This is a GET request.\"\n",
        "\n",
        "# Route that accepts only POST\n",
        "@app.route('/submit', methods=['POST'])\n",
        "def submit():\n",
        "    data = request.form.get('name')  # read form data\n",
        "    return f\"Form submitted with name: {data}\"\n",
        "\n",
        "# Route that accepts both GET and POST\n",
        "@app.route('/login', methods=['GET', 'POST'])\n",
        "def login():\n",
        "    if request.method == 'POST':\n",
        "        username = request.form.get('username')\n",
        "        return f\"Logged in as: {username}\"\n",
        "    return \"Please log in using POST method.\"\n",
        "\n",
        "# Route with PUT and DELETE\n",
        "@app.route('/item', methods=['PUT', 'DELETE'])\n",
        "def item():\n",
        "    if request.method == 'PUT':\n",
        "        return \"Item updated!\"\n",
        "    elif request.method == 'DELETE':\n",
        "        return \"Item deleted!\"\n"
      ],
      "metadata": {
        "id": "-wov6G6EKeED"
      },
      "execution_count": 3,
      "outputs": []
    },
    {
      "cell_type": "markdown",
      "source": [
        "Question 4:- How do you render HTML templates in Flask?\n"
      ],
      "metadata": {
        "id": "2i2ZuB82KpWS"
      }
    },
    {
      "cell_type": "code",
      "source": [
        "project/\n",
        "│── app.py\n",
        "│── templates/\n",
        "│   ├── index.html\n",
        "│   └── about.html\n",
        "\n",
        "#create HTML templates\n",
        "<!DOCTYPE html>\n",
        "<html>\n",
        "<head>\n",
        "    <title>Home</title>\n",
        "</head>\n",
        "<body>\n",
        "    <h1>Hello, {{ name }}!</h1>\n",
        "    <p>Welcome to the Flask template example.</p>\n",
        "    <a href=\"{{ url_for('about') }}\">Go to About Page</a>\n",
        "</body>\n",
        "</html>\n",
        "<!DOCTYPE html>\n",
        "<html>\n",
        "<head>\n",
        "    <title>About</title>\n",
        "</head>\n",
        "<body>\n",
        "    <h1>About Page</h1>\n",
        "    <p>This is the about page.</p>\n",
        "    <a href=\"{{ url_for('home') }}\">Back to Home</a>\n",
        "</body>\n",
        "</html>\n",
        "from flask import Flask, render_template\n",
        "\n",
        "app = Flask(__name__)\n",
        "\n",
        "@app.route('/')\n",
        "def home():\n",
        "    # passing dynamic data to template\n",
        "    return render_template('index.html', name=\"Devender\")\n",
        "\n",
        "@app.route('/about')\n",
        "def about():\n",
        "    return render_template('about.html')\n",
        "\n",
        "if __name__ == '__main__':\n",
        "    app.run(debug=True)\n"
      ],
      "metadata": {
        "id": "RPsnNhxaLFrH"
      },
      "execution_count": null,
      "outputs": []
    },
    {
      "cell_type": "markdown",
      "source": [
        "Question 5:- how do you generate URLs for routes in Flask using url_for?"
      ],
      "metadata": {
        "id": "HLJpZzmeLqkY"
      }
    },
    {
      "cell_type": "code",
      "source": [
        "from flask import Flask, url_for\n",
        "\n",
        "app = Flask(__name__)\n",
        "\n",
        "@app.route('/')\n",
        "def home():\n",
        "    return \"This is the Home Page\"\n",
        "\n",
        "@app.route('/about')\n",
        "def about():\n",
        "    return \"This is the About Page\"\n",
        "\n",
        "@app.route('/contact')\n",
        "def contact():\n",
        "    return \"This is the Contact Page\"\n",
        "\n",
        "@app.route('/links')\n",
        "def links():\n",
        "    # Generate URLs for different routes\n",
        "    home_url = url_for('home')\n",
        "    about_url = url_for('about')\n",
        "    contact_url = url_for('contact')\n",
        "    return f\"\"\"\n",
        "        <p>Home URL: {home_url}</p>\n",
        "        <p>About URL: {about_url}</p>\n",
        "        <p>Contact URL: {contact_url}</p>\n",
        "    \"\"\"\n",
        "\n",
        "if __name__ == \"__main__\":\n",
        "    app.run(debug=True)\n"
      ],
      "metadata": {
        "colab": {
          "base_uri": "https://localhost:8080/"
        },
        "id": "Unp8k5n2L8Yk",
        "outputId": "1800c41e-7ed7-483a-8ee0-a34e5891adc2"
      },
      "execution_count": 5,
      "outputs": [
        {
          "output_type": "stream",
          "name": "stdout",
          "text": [
            " * Serving Flask app '__main__'\n",
            " * Debug mode: on\n"
          ]
        },
        {
          "output_type": "stream",
          "name": "stderr",
          "text": [
            "INFO:werkzeug:\u001b[31m\u001b[1mWARNING: This is a development server. Do not use it in a production deployment. Use a production WSGI server instead.\u001b[0m\n",
            " * Running on http://127.0.0.1:5000\n",
            "INFO:werkzeug:\u001b[33mPress CTRL+C to quit\u001b[0m\n",
            "INFO:werkzeug: * Restarting with watchdog (inotify)\n"
          ]
        }
      ]
    },
    {
      "cell_type": "markdown",
      "source": [
        "Question 6:- How do you handle forms in flask?"
      ],
      "metadata": {
        "id": "H7ZwRJ30MLye"
      }
    },
    {
      "cell_type": "code",
      "source": [
        "#create an html form\n",
        "<!DOCTYPE html>\n",
        "<html>\n",
        "<head>\n",
        "    <title>Form Example</title>\n",
        "</head>\n",
        "<body>\n",
        "    <h2>User Form</h2>\n",
        "    <form method=\"POST\" action=\"{{ url_for('submit_form') }}\">\n",
        "        <label for=\"username\">Username:</label>\n",
        "        <input type=\"text\" name=\"username\" required><br><br>\n",
        "\n",
        "        <label for=\"email\">Email:</label>\n",
        "        <input type=\"email\" name=\"email\" required><br><br>\n",
        "\n",
        "        <button type=\"submit\">Submit</button>\n",
        "    </form>\n",
        "</body>\n",
        "</html>\n",
        "#flask application\n",
        "from flask import Flask, request, render_template\n",
        "\n",
        "app = Flask(__name__)\n",
        "\n",
        "@app.route('/')\n",
        "def home():\n",
        "    return render_template(\"form.html\")\n",
        "\n",
        "@app.route('/submit', methods=['POST'])\n",
        "def submit_form():\n",
        "    # Access form data using request.form\n",
        "    username = request.form['username']\n",
        "    email = request.form['email']\n",
        "\n",
        "    return f\"Received: Username = {username}, Email = {email}\"\n",
        "\n",
        "if __name__ == '__main__':\n",
        "    app.run(debug=True)\n"
      ],
      "metadata": {
        "id": "3IKAM4kbMlkL"
      },
      "execution_count": null,
      "outputs": []
    },
    {
      "cell_type": "markdown",
      "source": [
        "Question 7:- How can you validate form data in Flask?"
      ],
      "metadata": {
        "id": "w_Q0KAF_NB72"
      }
    },
    {
      "cell_type": "code",
      "source": [
        "from flask import Flask, request, render_template\n",
        "\n",
        "app = Flask(__name__)\n",
        "\n",
        "@app.route('/register', methods=['GET', 'POST'])\n",
        "def register():\n",
        "    if request.method == 'POST':\n",
        "        username = request.form.get('username', '').strip()\n",
        "        email = request.form.get('email', '').strip()\n",
        "\n",
        "        # Basic validation\n",
        "        errors = []\n",
        "        if not username:\n",
        "            errors.append(\"Username is required\")\n",
        "        if not email or \"@\" not in email:\n",
        "            errors.append(\"Valid email is required\")\n",
        "\n",
        "        if errors:\n",
        "            return f\"Errors: {', '.join(errors)}\"\n",
        "        else:\n",
        "            return f\"Registration successful for {username} with {email}\"\n",
        "\n",
        "    return render_template(\"form.html\")\n"
      ],
      "metadata": {
        "id": "YJ9ioRzkNMsE"
      },
      "execution_count": 6,
      "outputs": []
    },
    {
      "cell_type": "markdown",
      "source": [
        "Question 8:- How do you manage sessions in flask?"
      ],
      "metadata": {
        "id": "KNTv1LmzNoyT"
      }
    },
    {
      "cell_type": "code",
      "source": [
        "from flask import Flask, session, redirect, url_for, request, render_template\n",
        "\n",
        "app = Flask(__name__)\n",
        "app.secret_key = \"supersecretkey\"  # Required to sign the session cookie\n",
        "\n",
        "@app.route('/')\n",
        "def home():\n",
        "    if 'username' in session:\n",
        "        return f\"Welcome back, {session['username']}!\"\n",
        "    return \"You are not logged in. <a href='/login'>Login</a>\"\n",
        "\n",
        "@app.route('/login', methods=['GET', 'POST'])\n",
        "def login():\n",
        "    if request.method == 'POST':\n",
        "        # Store data in session\n",
        "        session['username'] = request.form['username']\n",
        "        return redirect(url_for('home'))\n",
        "    return '''\n",
        "        <form method=\"post\">\n",
        "            <input type=\"text\" name=\"username\" placeholder=\"Enter username\">\n",
        "            <input type=\"submit\" value=\"Login\">\n",
        "        </form>\n",
        "    '''\n",
        "\n",
        "@app.route('/logout')\n",
        "def logout():\n",
        "    # Remove data from session\n",
        "    session.pop('username', None)\n",
        "    return redirect(url_for('home'))\n",
        "\n",
        "if __name__ == '__main__':\n",
        "    app.run(debug=True)\n"
      ],
      "metadata": {
        "colab": {
          "base_uri": "https://localhost:8080/"
        },
        "id": "pWTojHbQN9Nn",
        "outputId": "d00e1a6a-f0c3-48cc-eac1-d942e444e888"
      },
      "execution_count": 7,
      "outputs": [
        {
          "output_type": "stream",
          "name": "stdout",
          "text": [
            " * Serving Flask app '__main__'\n",
            " * Debug mode: on\n"
          ]
        },
        {
          "output_type": "stream",
          "name": "stderr",
          "text": [
            "INFO:werkzeug:\u001b[31m\u001b[1mWARNING: This is a development server. Do not use it in a production deployment. Use a production WSGI server instead.\u001b[0m\n",
            " * Running on http://127.0.0.1:5000\n",
            "INFO:werkzeug:\u001b[33mPress CTRL+C to quit\u001b[0m\n",
            "INFO:werkzeug: * Restarting with watchdog (inotify)\n"
          ]
        }
      ]
    },
    {
      "cell_type": "markdown",
      "source": [
        "Question 9:- How do you redirect to a different route in flask?"
      ],
      "metadata": {
        "id": "AMIL7PP1OEVK"
      }
    },
    {
      "cell_type": "code",
      "source": [
        "from flask import Flask, redirect, url_for\n",
        "\n",
        "app = Flask(__name__)\n",
        "\n",
        "@app.route('/')\n",
        "def home():\n",
        "    return \"This is the home page. <a href='/login'>Login</a>\"\n",
        "\n",
        "@app.route('/login')\n",
        "def login():\n",
        "    # After login, redirect to profile page\n",
        "    return redirect(url_for('profile', username=\"John\"))\n",
        "\n",
        "@app.route('/profile/<username>')\n",
        "def profile(username):\n",
        "    return f\"Welcome to {username}'s profile!\"\n"
      ],
      "metadata": {
        "id": "iRgLAqgdOSwN"
      },
      "execution_count": 8,
      "outputs": []
    },
    {
      "cell_type": "markdown",
      "source": [
        "Question 10:- How do you handle errors in flask?\n"
      ],
      "metadata": {
        "id": "p2w5yrJVOguh"
      }
    },
    {
      "cell_type": "code",
      "source": [
        "#Using @app.errorhandler\n",
        "from flask import Flask, render_template\n",
        "\n",
        "app = Flask(__name__)\n",
        "\n",
        "@app.errorhandler(404)\n",
        "def page_not_found(e):\n",
        "    # Return a custom HTML page and status code\n",
        "    return render_template(\"404.html\"), 404\n",
        "\n",
        "@app.errorhandler(500)\n",
        "def internal_server_error(e):\n",
        "    return \"Something went wrong on our side!\", 500\n",
        "\n",
        "@app.route('/')\n",
        "def home():\n",
        "    return \"Welcome to the home page!\"\n"
      ],
      "metadata": {
        "id": "ov2r2IwAOo1q"
      },
      "execution_count": 9,
      "outputs": []
    },
    {
      "cell_type": "markdown",
      "source": [
        "Question 11:- How do you structure a flask app using blueprints?\n"
      ],
      "metadata": {
        "id": "E1ZihspBPAOM"
      }
    },
    {
      "cell_type": "code",
      "source": [
        "from flask import Blueprint\n",
        "\n",
        "# create the blueprint\n",
        "auth_bp = Blueprint('auth', __name__, url_prefix='/auth')\n",
        "\n",
        "@auth_bp.route('/login')\n",
        "def login():\n",
        "    return \"Login Page\"\n",
        "\n",
        "@auth_bp.route('/logout')\n",
        "def logout():\n",
        "    return \"Logout Page\"\n"
      ],
      "metadata": {
        "id": "OMZZ0mCoPUuf"
      },
      "execution_count": 10,
      "outputs": []
    },
    {
      "cell_type": "markdown",
      "source": [
        "Question 12:- How do you define a custon jinja filter in flask?"
      ],
      "metadata": {
        "id": "M4YtYf5yPhqD"
      }
    },
    {
      "cell_type": "code",
      "source": [
        "from flask import Flask, render_template\n",
        "\n",
        "app = Flask(__name__)\n",
        "\n",
        "def reverse_string(s):\n",
        "    return s[::-1]\n",
        "\n",
        "# register filter\n",
        "app.add_template_filter(reverse_string, 'reverse')\n",
        "\n",
        "@app.route('/')\n",
        "def index():\n",
        "    return render_template('index.html', name=\"Flask\")\n"
      ],
      "metadata": {
        "id": "FY5g_xy3PzYr"
      },
      "execution_count": 11,
      "outputs": []
    },
    {
      "cell_type": "markdown",
      "source": [
        "Question 13:- How can you redirect with query parameters in flask?"
      ],
      "metadata": {
        "id": "dK91kII0P2Zl"
      }
    },
    {
      "cell_type": "code",
      "source": [
        "from flask import Flask, redirect, url_for, request\n",
        "\n",
        "app = Flask(__name__)\n",
        "\n",
        "@app.route('/')\n",
        "def home():\n",
        "    return \"Home Page\"\n",
        "\n",
        "@app.route('/go')\n",
        "def go():\n",
        "    # redirect with query params\n",
        "    return redirect(url_for('target', user=\"dev\", age=25))\n",
        "\n",
        "@app.route('/target')\n",
        "def target():\n",
        "    user = request.args.get('user')\n",
        "    age = request.args.get('age')\n",
        "    return f\"Hello {user}, Age {age}\"\n"
      ],
      "metadata": {
        "id": "j2tuRRObQDJ1"
      },
      "execution_count": 12,
      "outputs": []
    },
    {
      "cell_type": "markdown",
      "source": [
        "Question 14:- How do you return JSON responses in Flask?"
      ],
      "metadata": {
        "id": "x90jskieQMjh"
      }
    },
    {
      "cell_type": "code",
      "source": [
        "from flask import Flask, jsonify\n",
        "\n",
        "app = Flask(__name__)\n",
        "\n",
        "@app.route('/api/data')\n",
        "def get_data():\n",
        "    data = {\n",
        "        \"name\": \"Flask\",\n",
        "        \"version\": \"2.0\",\n",
        "        \"status\": \"success\"\n",
        "    }\n",
        "    return jsonify(data)\n"
      ],
      "metadata": {
        "id": "9Ur8zA5yQWjH"
      },
      "execution_count": 13,
      "outputs": []
    },
    {
      "cell_type": "markdown",
      "source": [
        "Question 15:- How do you capture URL parameters in flask?"
      ],
      "metadata": {
        "id": "ix8sdP5hQeH5"
      }
    },
    {
      "cell_type": "code",
      "source": [
        "from flask import Flask\n",
        "\n",
        "app = Flask(__name__)\n",
        "\n",
        "@app.route('/user/<username>')\n",
        "def show_user(username):\n",
        "    return f\"Hello, {username}!\"\n"
      ],
      "metadata": {
        "id": "kk9C1patQm9D"
      },
      "execution_count": 14,
      "outputs": []
    }
  ]
}